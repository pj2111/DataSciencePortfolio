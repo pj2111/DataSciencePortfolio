{
  "nbformat": 4,
  "nbformat_minor": 0,
  "metadata": {
    "colab": {
      "name": "Untitled1.ipynb",
      "provenance": [],
      "authorship_tag": "ABX9TyPWZkWbFfdAajiyfNcWh2TO",
      "include_colab_link": true
    },
    "kernelspec": {
      "name": "python3",
      "display_name": "Python 3"
    }
  },
  "cells": [
    {
      "cell_type": "markdown",
      "metadata": {
        "id": "view-in-github",
        "colab_type": "text"
      },
      "source": [
        "<a href=\"https://colab.research.google.com/github/pj2111/DataSciencePortfolio/blob/master/News%20API.ipynb\" target=\"_parent\"><img src=\"https://colab.research.google.com/assets/colab-badge.svg\" alt=\"Open In Colab\"/></a>"
      ]
    },
    {
      "cell_type": "code",
      "metadata": {
        "id": "QZXT23D98AtT",
        "colab_type": "code",
        "colab": {}
      },
      "source": [
        "!pip install datetime\n",
        "!pip install newsapi-python"
      ],
      "execution_count": 0,
      "outputs": []
    },
    {
      "cell_type": "code",
      "metadata": {
        "id": "bVg_I4g437wN",
        "colab_type": "code",
        "colab": {}
      },
      "source": [
        "from newsapi.newsapi_client import NewsApiClient\n",
        "import datetime as dt\n",
        "import pandas as pd"
      ],
      "execution_count": 0,
      "outputs": []
    },
    {
      "cell_type": "code",
      "metadata": {
        "id": "Rr9Z7K6a6uEz",
        "colab_type": "code",
        "colab": {}
      },
      "source": [
        "newsapi = NewsApiClient(api_key='7262c076efb0407cb11e9b5f49ddfcd2')"
      ],
      "execution_count": 0,
      "outputs": []
    },
    {
      "cell_type": "code",
      "metadata": {
        "id": "0yo8f517-KBj",
        "colab_type": "code",
        "colab": {}
      },
      "source": [
        "data = newsapi.get_everything(q='Nora Fatehi', language='en')"
      ],
      "execution_count": 0,
      "outputs": []
    },
    {
      "cell_type": "code",
      "metadata": {
        "id": "49_vFrg8e2Lv",
        "colab_type": "code",
        "outputId": "71efab36-cb0c-4f6e-9d7b-f5c7605ecc91",
        "colab": {
          "base_uri": "https://localhost:8080/",
          "height": 34
        }
      },
      "source": [
        "type(data)"
      ],
      "execution_count": 0,
      "outputs": [
        {
          "output_type": "execute_result",
          "data": {
            "text/plain": [
              "dict"
            ]
          },
          "metadata": {
            "tags": []
          },
          "execution_count": 52
        }
      ]
    },
    {
      "cell_type": "code",
      "metadata": {
        "id": "guLNFAtue5GZ",
        "colab_type": "code",
        "outputId": "193e5368-d42d-4b18-f0e4-e7ff0527dbae",
        "colab": {
          "base_uri": "https://localhost:8080/",
          "height": 34
        }
      },
      "source": [
        "data['totalResults']"
      ],
      "execution_count": 0,
      "outputs": [
        {
          "output_type": "execute_result",
          "data": {
            "text/plain": [
              "7"
            ]
          },
          "metadata": {
            "tags": []
          },
          "execution_count": 53
        }
      ]
    },
    {
      "cell_type": "code",
      "metadata": {
        "id": "VgkpfXeHfEHv",
        "colab_type": "code",
        "outputId": "2bed58d1-5b8b-4f1a-b080-190d3600f1e6",
        "colab": {
          "base_uri": "https://localhost:8080/",
          "height": 34
        }
      },
      "source": [
        "type(data['articles'])"
      ],
      "execution_count": 0,
      "outputs": [
        {
          "output_type": "execute_result",
          "data": {
            "text/plain": [
              "list"
            ]
          },
          "metadata": {
            "tags": []
          },
          "execution_count": 54
        }
      ]
    },
    {
      "cell_type": "code",
      "metadata": {
        "id": "bVTF1FwkgWP9",
        "colab_type": "code",
        "outputId": "965155c7-d867-4145-c4dd-4813188d12e4",
        "colab": {
          "base_uri": "https://localhost:8080/",
          "height": 173
        }
      },
      "source": [
        "data['articles'][0]"
      ],
      "execution_count": 0,
      "outputs": [
        {
          "output_type": "execute_result",
          "data": {
            "text/plain": [
              "{'author': 'Pinkvilla Desk',\n",
              " 'content': 'There is sad news for all the fans that were super pumped and thrilled to watch Varun Dhawan and Janhvi Kapoor come together on the screens. Why? Because as per latest round of reports, Shashank Khaitans Mr Lele featuring Varun Dhawan, Janhvi Kapoor and Bhumi… [+1584 chars]',\n",
              " 'description': 'There is sad news for all the fans that were super pumped and thrilled to watch Varun Dhawan and Janhvi Kapoor come together on the screens. Why? Because as per latest round of reports, Shashank Khaitan’s Mr Lele featuring Varun Dhawan, Janhvi Kapoor and Bhum…',\n",
              " 'publishedAt': '2020-03-05T06:31:00Z',\n",
              " 'source': {'id': None, 'name': 'Pinkvilla.com'},\n",
              " 'title': 'Varun Dhawan, Janhvi Kapoor & Bhumi’s comic thriller Mr Lele put on the back burner? Here’s what we know - PINKVILLA',\n",
              " 'url': 'https://www.pinkvilla.com/entertainment/news/varun-dhawan-janhvi-kapoor-bhumi-s-comic-thriller-mr-lele-put-back-burner-here-s-what-we-know-512685',\n",
              " 'urlToImage': 'https://www.pinkvilla.com/files/styles/fbimagesection/public/varundhawanmrleleputonholdsocial.jpg?itok=jdE4S2aU'}"
            ]
          },
          "metadata": {
            "tags": []
          },
          "execution_count": 55
        }
      ]
    },
    {
      "cell_type": "code",
      "metadata": {
        "id": "GdyzlIM3gcOB",
        "colab_type": "code",
        "colab": {}
      },
      "source": [
        "articles= data['articles']"
      ],
      "execution_count": 0,
      "outputs": []
    },
    {
      "cell_type": "code",
      "metadata": {
        "id": "smqpYOLOhLbR",
        "colab_type": "code",
        "outputId": "980a193b-63a4-4725-e89f-e74b15e3054c",
        "colab": {
          "base_uri": "https://localhost:8080/",
          "height": 136
        }
      },
      "source": [
        "for x, y in enumerate(articles):\n",
        "  print(f'{x}    {y[\"title\"]}')"
      ],
      "execution_count": 0,
      "outputs": [
        {
          "output_type": "stream",
          "text": [
            "0    Varun Dhawan, Janhvi Kapoor & Bhumi’s comic thriller Mr Lele put on the back burner? Here’s what we know - PINKVILLA\n",
            "1    Happy Birthday Shraddha Kapoor: 10 pics from her family album featuring dad Shakti, brother Siddhanth,... - Hindustan Times\n",
            "2    Bhushan Kumar and Divya Khosla Kumar creating the color love this Holi\n",
            "3    Harrdy Sandhu`s Jee Karr Daa is for every groovy lover\n",
            "4    Before Anubhav Sinha turned to social dramas, he made films with ‘mind blowing’ music, like Dus and Cash\n",
            "5    9 Recent Bollywood Remixes Show Music Composers Are Just Lazy And The Songs Are Trashy AF\n",
            "6    PIX: Ranveer's Gully Boy wins big again!\n"
          ],
          "name": "stdout"
        }
      ]
    },
    {
      "cell_type": "code",
      "metadata": {
        "id": "msWIwiJ-hkT6",
        "colab_type": "code",
        "colab": {}
      },
      "source": [
        "df = pd.DataFrame(articles)"
      ],
      "execution_count": 0,
      "outputs": []
    },
    {
      "cell_type": "code",
      "metadata": {
        "id": "6OPSiYhdnxTj",
        "colab_type": "code",
        "outputId": "37c84594-91e1-4dbd-bb61-86b593202e9d",
        "colab": {
          "base_uri": "https://localhost:8080/",
          "height": 864
        }
      },
      "source": [
        "df"
      ],
      "execution_count": 0,
      "outputs": [
        {
          "output_type": "execute_result",
          "data": {
            "text/html": [
              "<div>\n",
              "<style scoped>\n",
              "    .dataframe tbody tr th:only-of-type {\n",
              "        vertical-align: middle;\n",
              "    }\n",
              "\n",
              "    .dataframe tbody tr th {\n",
              "        vertical-align: top;\n",
              "    }\n",
              "\n",
              "    .dataframe thead th {\n",
              "        text-align: right;\n",
              "    }\n",
              "</style>\n",
              "<table border=\"1\" class=\"dataframe\">\n",
              "  <thead>\n",
              "    <tr style=\"text-align: right;\">\n",
              "      <th></th>\n",
              "      <th>source</th>\n",
              "      <th>author</th>\n",
              "      <th>title</th>\n",
              "      <th>description</th>\n",
              "      <th>url</th>\n",
              "      <th>urlToImage</th>\n",
              "      <th>publishedAt</th>\n",
              "      <th>content</th>\n",
              "    </tr>\n",
              "  </thead>\n",
              "  <tbody>\n",
              "    <tr>\n",
              "      <th>0</th>\n",
              "      <td>{'id': None, 'name': 'Pinkvilla.com'}</td>\n",
              "      <td>Pinkvilla Desk</td>\n",
              "      <td>Varun Dhawan, Janhvi Kapoor &amp; Bhumi’s comic th...</td>\n",
              "      <td>There is sad news for all the fans that were s...</td>\n",
              "      <td>https://www.pinkvilla.com/entertainment/news/v...</td>\n",
              "      <td>https://www.pinkvilla.com/files/styles/fbimage...</td>\n",
              "      <td>2020-03-05T06:31:00Z</td>\n",
              "      <td>There is sad news for all the fans that were s...</td>\n",
              "    </tr>\n",
              "    <tr>\n",
              "      <th>1</th>\n",
              "      <td>{'id': None, 'name': 'Hindustantimes.com'}</td>\n",
              "      <td>HT Correspondent</td>\n",
              "      <td>Happy Birthday Shraddha Kapoor: 10 pics from h...</td>\n",
              "      <td>On Shraddha Kapoor’s birthday, let us take a l...</td>\n",
              "      <td>https://www.hindustantimes.com/bollywood/happy...</td>\n",
              "      <td>https://www.hindustantimes.com/rf/image_size_9...</td>\n",
              "      <td>2020-03-02T13:50:00Z</td>\n",
              "      <td>Actor Shraddha Kapoor is extremely close to he...</td>\n",
              "    </tr>\n",
              "    <tr>\n",
              "      <th>2</th>\n",
              "      <td>{'id': None, 'name': 'Santabanta.com'}</td>\n",
              "      <td>None</td>\n",
              "      <td>Bhushan Kumar and Divya Khosla Kumar creating ...</td>\n",
              "      <td>We all Know Bhushan Kumar as the son of legend...</td>\n",
              "      <td>http://www.santabanta.com/bollywood/139200/bhu...</td>\n",
              "      <td>http://media.santabanta.com/newsite/cinemascop...</td>\n",
              "      <td>2020-03-11T11:06:37Z</td>\n",
              "      <td>We all Know Bhushan Kumar as the son of legend...</td>\n",
              "    </tr>\n",
              "    <tr>\n",
              "      <th>3</th>\n",
              "      <td>{'id': None, 'name': 'Santabanta.com'}</td>\n",
              "      <td>None</td>\n",
              "      <td>Harrdy Sandhu`s Jee Karr Daa is for every groo...</td>\n",
              "      <td>Harrdy Sandhu`s first single of 2020 is here! ...</td>\n",
              "      <td>http://www.santabanta.com/bollywood/139082/har...</td>\n",
              "      <td>http://media.santabanta.com/newsite/cinemascop...</td>\n",
              "      <td>2020-03-07T06:55:31Z</td>\n",
              "      <td>Harrdy Sandhu's first single of 2020 is here! ...</td>\n",
              "    </tr>\n",
              "    <tr>\n",
              "      <th>4</th>\n",
              "      <td>{'id': None, 'name': 'Firstpost.com'}</td>\n",
              "      <td>Devansh Sharma</td>\n",
              "      <td>Before Anubhav Sinha turned to social dramas, ...</td>\n",
              "      <td>Let Anubhav Sinha not forget he gave us gems l...</td>\n",
              "      <td>https://www.firstpost.com/entertainment/bollyw...</td>\n",
              "      <td>https://images.firstpost.com/wp-content/upload...</td>\n",
              "      <td>2020-02-27T11:26:36Z</td>\n",
              "      <td>Anubhav Sinha may have 'found his voice' throu...</td>\n",
              "    </tr>\n",
              "    <tr>\n",
              "      <th>5</th>\n",
              "      <td>{'id': 'the-times-of-india', 'name': 'The Time...</td>\n",
              "      <td>Shreya Chauhan</td>\n",
              "      <td>9 Recent Bollywood Remixes Show Music Composer...</td>\n",
              "      <td>Click here for the list of most recent remixes...</td>\n",
              "      <td>https://www.indiatimes.com/trending/recent-rem...</td>\n",
              "      <td>https://media.indiatimes.in/media/content/2020...</td>\n",
              "      <td>2020-02-22T06:20:48Z</td>\n",
              "      <td>Bollywood music these days is anything but cre...</td>\n",
              "    </tr>\n",
              "    <tr>\n",
              "      <th>6</th>\n",
              "      <td>{'id': None, 'name': 'Rediff.com'}</td>\n",
              "      <td>Rediff Movies</td>\n",
              "      <td>PIX: Ranveer's Gully Boy wins big again!</td>\n",
              "      <td>Zee Cine Awards were held sans audience.</td>\n",
              "      <td>https://www.rediff.com/movies/report/pix-ranve...</td>\n",
              "      <td>http://im.rediff.com/movies/2020/mar/16zee21.jpg</td>\n",
              "      <td>2020-03-16T06:35:09Z</td>\n",
              "      <td>Thanks to the coronavirus outbreak, the ZEE Ci...</td>\n",
              "    </tr>\n",
              "  </tbody>\n",
              "</table>\n",
              "</div>"
            ],
            "text/plain": [
              "                                              source  ...                                            content\n",
              "0              {'id': None, 'name': 'Pinkvilla.com'}  ...  There is sad news for all the fans that were s...\n",
              "1         {'id': None, 'name': 'Hindustantimes.com'}  ...  Actor Shraddha Kapoor is extremely close to he...\n",
              "2             {'id': None, 'name': 'Santabanta.com'}  ...  We all Know Bhushan Kumar as the son of legend...\n",
              "3             {'id': None, 'name': 'Santabanta.com'}  ...  Harrdy Sandhu's first single of 2020 is here! ...\n",
              "4              {'id': None, 'name': 'Firstpost.com'}  ...  Anubhav Sinha may have 'found his voice' throu...\n",
              "5  {'id': 'the-times-of-india', 'name': 'The Time...  ...  Bollywood music these days is anything but cre...\n",
              "6                 {'id': None, 'name': 'Rediff.com'}  ...  Thanks to the coronavirus outbreak, the ZEE Ci...\n",
              "\n",
              "[7 rows x 8 columns]"
            ]
          },
          "metadata": {
            "tags": []
          },
          "execution_count": 59
        }
      ]
    },
    {
      "cell_type": "code",
      "metadata": {
        "id": "zgS0utcunzgn",
        "colab_type": "code",
        "colab": {}
      },
      "source": [
        ""
      ],
      "execution_count": 0,
      "outputs": []
    }
  ]
}